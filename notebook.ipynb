{
 "cells": [
  {
   "cell_type": "markdown",
   "metadata": {},
   "source": [
    "## The Apprentice UK Outcomes"
   ]
  },
  {
   "cell_type": "code",
   "execution_count": 3,
   "metadata": {},
   "outputs": [],
   "source": [
    "import sqlite3\n",
    "import pandas as pd\n",
    "import requests\n",
    "from bs4 import BeautifulSoup\n",
    "import re"
   ]
  },
  {
   "cell_type": "markdown",
   "metadata": {},
   "source": [
    "The data we want to see is in the \"Performance Chart\" section and the \"Episodes\" summaries. These are tables are offset indexed 1 and 2 respectively."
   ]
  },
  {
   "cell_type": "markdown",
   "metadata": {},
   "source": [
    "I'm going to extract the data I need iteratively and load to a db - this is in part cause I started this project on the long train home, relying on a meagre pay-as-you-go limit, and in part as I don't any database management today and want to get some practice in!"
   ]
  },
  {
   "cell_type": "markdown",
   "metadata": {},
   "source": [
    "### Episode Summaries data"
   ]
  },
  {
   "cell_type": "markdown",
   "metadata": {},
   "source": [
    "Staring with the Episodes table, there are 2 row classes that we care about: `expand-child` and `vevent module-episode-list-row`. These contain an episode summary and episode key data respectively, which we will need to join together."
   ]
  },
  {
   "cell_type": "code",
   "execution_count": 11,
   "metadata": {},
   "outputs": [
    {
     "name": "stdout",
     "output_type": "stream",
     "text": [
      "Tables: []\n"
     ]
    }
   ],
   "source": [
    "# For dropping table\n",
    "with sqlite3.connect(\"database.db\") as conn:\n",
    "    conn.execute(\"DROP TABLE IF EXISTS episode_summaries\")\n",
    "    tables = conn.execute(\"SELECT name FROM sqlite_master WHERE type='table';\").fetchall()\n",
    "    print(\"Tables:\", tables)"
   ]
  },
  {
   "cell_type": "code",
   "execution_count": 12,
   "metadata": {},
   "outputs": [
    {
     "name": "stdout",
     "output_type": "stream",
     "text": [
      "Tables: [('episode_summaries',)]\n"
     ]
    }
   ],
   "source": [
    "## Run the first time\n",
    "with sqlite3.connect(\"database.db\") as conn:\n",
    "    conn.execute(\"CREATE TABLE episode_summaries (episode_id INTEGER, episode_num INTEGER, task_title TEXT, task_description TEXT, series_number INTEGER)\")\n",
    "    tables = conn.execute(\"SELECT name FROM sqlite_master WHERE type='table';\").fetchall()\n",
    "    print(\"Tables:\", tables)"
   ]
  },
  {
   "cell_type": "code",
   "execution_count": 13,
   "metadata": {},
   "outputs": [],
   "source": [
    "def get_and_store_page_content(series_num: int, SNMAX=19):\n",
    "    \"\"\"\n",
    "    Fetches the content of a Wikipedia page for a given series number and stores it locally.\n",
    "    SNMAX (int, optional): The maximum series number, currently 19 (20 ongoing at time of writing).\n",
    "    \"\"\"\n",
    "    assert series_num > 0 and series_num <= SNMAX and isinstance(series_num, int), \"series_num must be a positive integer below 20\"\n",
    "    url = f\"https://en.m.wikipedia.org/wiki/The_Apprentice_(British_TV_series)_series_{series_num}\"\n",
    "    page = requests.get(url)\n",
    "    page_content = page.content\n",
    "    with open(f\"pages/series_{series_num}.html\", \"wb\") as f:\n",
    "        f.write(page_content)\n",
    "    return page_content\n",
    "\n",
    "def get_html_tables(series_num: int, bypass_page_check=False):\n",
    "    assert series_num > 0 and isinstance(series_num, int), \"series_num must be a positive integer\"\n",
    "    try:\n",
    "        with open(f\"pages/series_{series_num}.html\", \"r\") as f:\n",
    "            page_content = f.read()\n",
    "    except FileNotFoundError:\n",
    "        if bypass_page_check or input(\"Page not found. Download page? (y/n)\").lower() == \"y\":\n",
    "            page_content = get_and_store_page_content(series_num)\n",
    "        else:\n",
    "            return None\n",
    "    soup = BeautifulSoup(page_content, 'html.parser')\n",
    "    return soup.find_all('table', class_='wikitable')\n",
    "\n",
    "def add_episode_summaries_row(series_num: int, bypass_page_check=False, db_path=\"database.db\"):\n",
    "    \"\"\"\n",
    "    Fetches and parses the episode summaries for a given series number, and stores them in the database.\n",
    "    Table index 2 is the episode summaries table.\n",
    "    \"\"\"\n",
    "    html_table = get_html_tables(series_num, bypass_page_check=bypass_page_check)[2]\n",
    "    parsed_rows = parse_html_table(html_table)\n",
    "    if parsed_rows is None:\n",
    "        return None\n",
    "    \n",
    "    ## Add the series number to the parsed rows\n",
    "    parsed_rows = [(row[0], row[1], row[2], row[3], series_num) for row in parsed_rows]\n",
    "\n",
    "    ## We need to use a SQL parameter method to insert data with odd characters like '\n",
    "    sql_template = \"INSERT INTO episode_summaries(episode_id, episode_num, task_title, task_description, series_number) VALUES(?, ?, ?, ?, ?)\"\n",
    "    conn = sqlite3.connect(db_path)\n",
    "    cur = conn.cursor()\n",
    "    cur.executemany(sql_template, parsed_rows)\n",
    "    conn.commit()\n",
    "    conn.close()\n",
    "    \n",
    "    return parsed_rows\n",
    "\n",
    "def parse_episode_header(html_row):\n",
    "    \"\"\"\n",
    "    Parses the header row of an episode table.\n",
    "    \"\"\"\n",
    "    header = html_row.find_all('th')\n",
    "    assert len(header) == 1, \"Header row must have exactly header one cell\"\n",
    "    episode_id = header[0].text\n",
    "    cells = html_row.find_all('td')\n",
    "    episode_num = cells[0].text\n",
    "    task = cells[1].text\n",
    "    return episode_id, episode_num, task\n",
    "\n",
    "def parse_episode_summary(html_row):\n",
    "    return html_row.text.replace(\"\\n\", \"\")\n",
    "\n",
    "def parse_html_table(html_table):\n",
    "    \"\"\"\n",
    "    Parses an HTML table of episode summaries into a list of episodal rows represented by tuples.\n",
    "    Each row is a header html_row followed by a summary html_row, which need to be collected into one\n",
    "    tuple.\n",
    "    \"\"\"\n",
    "    html_rows = html_table.find_all('tr')\n",
    "    end_rows = []\n",
    "    current_row = [0,0,0,0]\n",
    "    for html_row in html_rows:\n",
    "        if html_row.get('class') == ['vevent', 'module-episode-list-row']:\n",
    "            parsed_table_row = parse_episode_header(html_row)\n",
    "\n",
    "            ## We ignore the special (retrospective) episodes, as they give us\n",
    "            ## no new information about the competition, and their formats are\n",
    "            ## different. Special episode numbers aren't entirely numeric\n",
    "            if not parsed_table_row[1].isnumeric():\n",
    "                continue\n",
    "            current_row[0], current_row[1], current_row[2] = parsed_table_row\n",
    "\n",
    "            # The episode title format needs to be parsed\n",
    "            current_row[2] = re.search(r\"\\\"(.+)\\\"\", current_row[2]).group(1)\n",
    "        elif html_row.get('class') == ['expand-child']:\n",
    "            if current_row[0] == 0:\n",
    "                continue\n",
    "            current_row[3] = parse_episode_summary(html_row)\n",
    "            end_rows.append(current_row)\n",
    "            current_row = [0,0,0,0]\n",
    "    return end_rows"
   ]
  },
  {
   "cell_type": "code",
   "execution_count": 14,
   "metadata": {},
   "outputs": [],
   "source": [
    "## Run the first time\n",
    "for i in range(1, 20):\n",
    "    add_episode_summaries_row(i, bypass_page_check=True);\n",
    "    "
   ]
  },
  {
   "cell_type": "code",
   "execution_count": 16,
   "metadata": {},
   "outputs": [
    {
     "data": {
      "text/html": [
       "<div>\n",
       "<style scoped>\n",
       "    .dataframe tbody tr th:only-of-type {\n",
       "        vertical-align: middle;\n",
       "    }\n",
       "\n",
       "    .dataframe tbody tr th {\n",
       "        vertical-align: top;\n",
       "    }\n",
       "\n",
       "    .dataframe thead th {\n",
       "        text-align: right;\n",
       "    }\n",
       "</style>\n",
       "<table border=\"1\" class=\"dataframe\">\n",
       "  <thead>\n",
       "    <tr style=\"text-align: right;\">\n",
       "      <th></th>\n",
       "      <th>episode_num</th>\n",
       "      <th>task_title</th>\n",
       "      <th>task_description</th>\n",
       "      <th>series_number</th>\n",
       "    </tr>\n",
       "    <tr>\n",
       "      <th>episode_id</th>\n",
       "      <th></th>\n",
       "      <th></th>\n",
       "      <th></th>\n",
       "      <th></th>\n",
       "    </tr>\n",
       "  </thead>\n",
       "  <tbody>\n",
       "    <tr>\n",
       "      <th>1</th>\n",
       "      <td>1</td>\n",
       "      <td>Wilting Blooms</td>\n",
       "      <td>Sir Alan Sugar begins a search for an apprenti...</td>\n",
       "      <td>1</td>\n",
       "    </tr>\n",
       "    <tr>\n",
       "      <th>2</th>\n",
       "      <td>2</td>\n",
       "      <td>Child's Play</td>\n",
       "      <td>Teams put their creative skills to the test wh...</td>\n",
       "      <td>1</td>\n",
       "    </tr>\n",
       "    <tr>\n",
       "      <th>3</th>\n",
       "      <td>3</td>\n",
       "      <td>Shop Till You Drop</td>\n",
       "      <td>On their next task, Sir Alan assigns both team...</td>\n",
       "      <td>1</td>\n",
       "    </tr>\n",
       "    <tr>\n",
       "      <th>4</th>\n",
       "      <td>4</td>\n",
       "      <td>The Harrods Sales</td>\n",
       "      <td>Given a concession stand to run within Harrods...</td>\n",
       "      <td>1</td>\n",
       "    </tr>\n",
       "    <tr>\n",
       "      <th>5</th>\n",
       "      <td>5</td>\n",
       "      <td>Art with a Capital F</td>\n",
       "      <td>Both teams find themselves each representing a...</td>\n",
       "      <td>1</td>\n",
       "    </tr>\n",
       "    <tr>\n",
       "      <th>...</th>\n",
       "      <td>...</td>\n",
       "      <td>...</td>\n",
       "      <td>...</td>\n",
       "      <td>...</td>\n",
       "    </tr>\n",
       "    <tr>\n",
       "      <th>250</th>\n",
       "      <td>2</td>\n",
       "      <td>Virtual Pop Star</td>\n",
       "      <td>The second task has the teams assigned to crea...</td>\n",
       "      <td>19</td>\n",
       "    </tr>\n",
       "    <tr>\n",
       "      <th>251</th>\n",
       "      <td>3</td>\n",
       "      <td>Discount Buying</td>\n",
       "      <td>The candidates are sent to Stratford-upon-Avon...</td>\n",
       "      <td>19</td>\n",
       "    </tr>\n",
       "    <tr>\n",
       "      <th>252</th>\n",
       "      <td>4</td>\n",
       "      <td>Crops to Cash</td>\n",
       "      <td>Both teams are challenged to create products u...</td>\n",
       "      <td>19</td>\n",
       "    </tr>\n",
       "    <tr>\n",
       "      <th>253</th>\n",
       "      <td>5</td>\n",
       "      <td>Easter Eggs</td>\n",
       "      <td>The two teams are tasked with creating Easter ...</td>\n",
       "      <td>19</td>\n",
       "    </tr>\n",
       "    <tr>\n",
       "      <th>254</th>\n",
       "      <td>6</td>\n",
       "      <td>Turkey Corporate Hospitality</td>\n",
       "      <td>The teams are sent to Turkey, with the task of...</td>\n",
       "      <td>19</td>\n",
       "    </tr>\n",
       "  </tbody>\n",
       "</table>\n",
       "<p>222 rows × 4 columns</p>\n",
       "</div>"
      ],
      "text/plain": [
       "            episode_num                    task_title  \\\n",
       "episode_id                                              \n",
       "1                     1                Wilting Blooms   \n",
       "2                     2                  Child's Play   \n",
       "3                     3            Shop Till You Drop   \n",
       "4                     4             The Harrods Sales   \n",
       "5                     5          Art with a Capital F   \n",
       "...                 ...                           ...   \n",
       "250                   2              Virtual Pop Star   \n",
       "251                   3               Discount Buying   \n",
       "252                   4                 Crops to Cash   \n",
       "253                   5                   Easter Eggs   \n",
       "254                   6  Turkey Corporate Hospitality   \n",
       "\n",
       "                                             task_description  series_number  \n",
       "episode_id                                                                    \n",
       "1           Sir Alan Sugar begins a search for an apprenti...              1  \n",
       "2           Teams put their creative skills to the test wh...              1  \n",
       "3           On their next task, Sir Alan assigns both team...              1  \n",
       "4           Given a concession stand to run within Harrods...              1  \n",
       "5           Both teams find themselves each representing a...              1  \n",
       "...                                                       ...            ...  \n",
       "250         The second task has the teams assigned to crea...             19  \n",
       "251         The candidates are sent to Stratford-upon-Avon...             19  \n",
       "252         Both teams are challenged to create products u...             19  \n",
       "253         The two teams are tasked with creating Easter ...             19  \n",
       "254         The teams are sent to Turkey, with the task of...             19  \n",
       "\n",
       "[222 rows x 4 columns]"
      ]
     },
     "execution_count": 16,
     "metadata": {},
     "output_type": "execute_result"
    }
   ],
   "source": [
    "df_es = pd.read_sql(\"SELECT * FROM episode_summaries\", sqlite3.connect(\"database.db\"), index_col=\"episode_id\")\n",
    "df_es"
   ]
  },
  {
   "cell_type": "code",
   "execution_count": null,
   "metadata": {},
   "outputs": [],
   "source": [
    "# df_es.to_csv(\"episode_summaries.csv\")"
   ]
  },
  {
   "cell_type": "markdown",
   "metadata": {},
   "source": [
    "### Performance Chart data"
   ]
  },
  {
   "cell_type": "markdown",
   "metadata": {},
   "source": []
  },
  {
   "cell_type": "code",
   "execution_count": 7,
   "metadata": {},
   "outputs": [
    {
     "name": "stdout",
     "output_type": "stream",
     "text": [
      "Tables: [('episode_summaries',)]\n"
     ]
    }
   ],
   "source": [
    "with sqlite3.connect(\"database.db\") as conn:\n",
    "    conn.execute(\"DROP TABLE IF EXISTS performance_chart\")\n",
    "    tables = conn.execute(\"SELECT name FROM sqlite_master WHERE type='table';\").fetchall()\n",
    "    print(\"Tables:\", tables)"
   ]
  },
  {
   "cell_type": "markdown",
   "metadata": {},
   "source": [
    "The chart schema is as follows:\n",
    "- `Candidate` - the name of the candidate (Primary Key) TEXT\n",
    "- `Week n result` - the performance of the candidate in week n (where n is the week number) TEXT. This will be one of\n",
    "    - `PM` - Project Manager and fired\n",
    "    - `FIRED` - Fired but not PM\n",
    "    - `BR` - Brought back to the boardroom but not fired\n",
    "    - `LOSE` - Lost task as PM but not fired\n",
    "    - `LOSS` - Lost task but not fired or brought back\n",
    "    - `IN` - In the winning team\n",
    "    - `WIN` - Won task as PM\n",
    "    - `RUNNER UP` - Runner up in the final\n",
    "    - `WINNER` - Winner of the series\n",
    "\n",
    "\n"
   ]
  },
  {
   "cell_type": "code",
   "execution_count": 18,
   "metadata": {},
   "outputs": [
    {
     "name": "stdout",
     "output_type": "stream",
     "text": [
      "Tables: [('episode_summaries',), ('performance_chart',)]\n"
     ]
    }
   ],
   "source": [
    "SCHEMA = [f'week_{n}_result TEXT' for n in range(1, 12)]\n",
    "\n",
    "with sqlite3.connect(\"database.db\") as conn:\n",
    "    conn.execute(f\"CREATE TABLE performance_chart (candidate TEXT, {', '.join(SCHEMA)})\")\n",
    "    tables = conn.execute(\"SELECT name FROM sqlite_master WHERE type='table';\").fetchall()\n",
    "    print(\"Tables:\", tables)"
   ]
  },
  {
   "cell_type": "markdown",
   "metadata": {},
   "source": [
    "Full candidate names are in the 0 index table."
   ]
  }
 ],
 "metadata": {
  "kernelspec": {
   "display_name": "Python 3",
   "language": "python",
   "name": "python3"
  },
  "language_info": {
   "codemirror_mode": {
    "name": "ipython",
    "version": 3
   },
   "file_extension": ".py",
   "mimetype": "text/x-python",
   "name": "python",
   "nbconvert_exporter": "python",
   "pygments_lexer": "ipython3",
   "version": "3.12.3"
  }
 },
 "nbformat": 4,
 "nbformat_minor": 2
}
